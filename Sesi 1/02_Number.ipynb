{
  "cells": [
    {
      "cell_type": "markdown",
      "metadata": {
        "id": "FYfBWOuwkdq_"
      },
      "source": [
        "# Data type number\n",
        "Integer, Float"
      ]
    },
    {
      "cell_type": "code",
      "execution_count": null,
      "metadata": {
        "id": "KMrk5-g9kdrA",
        "outputId": "e69a51a3-2f5b-47d0-9843-be7bbffef404"
      },
      "outputs": [
        {
          "data": {
            "text/plain": [
              "int"
            ]
          },
          "execution_count": 3,
          "metadata": {},
          "output_type": "execute_result"
        }
      ],
      "source": [
        "type(26)"
      ]
    },
    {
      "cell_type": "code",
      "execution_count": null,
      "metadata": {
        "id": "ZUd3UybbkdrA",
        "outputId": "23c02742-738a-4088-fa98-4270e8f34f07"
      },
      "outputs": [
        {
          "data": {
            "text/plain": [
              "float"
            ]
          },
          "execution_count": 4,
          "metadata": {},
          "output_type": "execute_result"
        }
      ],
      "source": [
        "type(2.6)"
      ]
    },
    {
      "cell_type": "markdown",
      "metadata": {
        "id": "DbzUcuGnkdrA"
      },
      "source": [
        "### Operasi yang bisa dilakukan terhadap int dan float "
      ]
    },
    {
      "cell_type": "code",
      "execution_count": null,
      "metadata": {
        "id": "s48CCzbVkdrA",
        "outputId": "4af6b4c4-c8e4-4c49-b82c-1f07d9e60589"
      },
      "outputs": [
        {
          "name": "stdout",
          "output_type": "stream",
          "text": [
            "8\n",
            "-4\n",
            "12\n",
            "0.3333333333333333\n",
            "2\n",
            "1\n",
            "64\n",
            "-4\n"
          ]
        }
      ],
      "source": [
        "print(2+6) # penjumlahan\n",
        "print(2-6) # pengurangan\n",
        "print(2*6) # perkalian\n",
        "print(2/6) # pembagian\n",
        "print(5//2) # tebak sendiri\n",
        "print(5%2) # tebak sendiri\n",
        "print(2**6) # pangkat\n",
        "print(-4) # negasi"
      ]
    },
    {
      "cell_type": "code",
      "execution_count": null,
      "metadata": {
        "id": "ZyvPQEY9kdrA",
        "outputId": "d5dcf05f-323a-4ac0-835a-3d69624981cb"
      },
      "outputs": [
        {
          "data": {
            "text/plain": [
              "-4"
            ]
          },
          "execution_count": 6,
          "metadata": {},
          "output_type": "execute_result"
        }
      ],
      "source": [
        "2+6\n",
        "2-6\n",
        "2*6\n",
        "2/6\n",
        "5//2\n",
        "5%2\n",
        "2**6\n",
        "-4\n",
        "# tanpa print() python hanya akan menampilkan output terakhir"
      ]
    },
    {
      "cell_type": "code",
      "execution_count": null,
      "metadata": {
        "id": "UOxmRs_skdrA",
        "outputId": "4f81033b-5a8d-4fd9-f240-c7a9b17b76d9"
      },
      "outputs": [
        {
          "name": "stdout",
          "output_type": "stream",
          "text": [
            "2.5\n",
            "3.0\n"
          ]
        }
      ],
      "source": [
        "# detail agak penting pembagian selalu menghasilkan float\n",
        "print (5 / 2)\n",
        "print (6 / 2)"
      ]
    },
    {
      "cell_type": "code",
      "execution_count": null,
      "metadata": {
        "id": "Yjau-UdUkdrA",
        "outputId": "8cf4a8a7-b04c-4a63-d30f-7f67b8358692"
      },
      "outputs": [
        {
          "data": {
            "text/plain": [
              "-22"
            ]
          },
          "execution_count": 8,
          "metadata": {},
          "output_type": "execute_result"
        }
      ],
      "source": [
        "# untungnya python ngikutin aturan perhitungan \n",
        "2 - 6 * 4"
      ]
    },
    {
      "cell_type": "markdown",
      "metadata": {
        "id": "A1956jpZkdrA"
      },
      "source": [
        "### Beberapa function yang bekerja pada number"
      ]
    },
    {
      "cell_type": "code",
      "execution_count": null,
      "metadata": {
        "id": "fHWu8QnGkdrB",
        "outputId": "f47f0b39-3e0a-4f4d-e27e-8a285ca6662a"
      },
      "outputs": [
        {
          "data": {
            "text/plain": [
              "1"
            ]
          },
          "execution_count": 9,
          "metadata": {},
          "output_type": "execute_result"
        }
      ],
      "source": [
        "min(1,2,3)"
      ]
    },
    {
      "cell_type": "code",
      "execution_count": null,
      "metadata": {
        "id": "WHIZFjMpkdrB",
        "outputId": "3b01c459-3cca-414f-f7f6-8d32e5af16a4"
      },
      "outputs": [
        {
          "data": {
            "text/plain": [
              "3"
            ]
          },
          "execution_count": 10,
          "metadata": {},
          "output_type": "execute_result"
        }
      ],
      "source": [
        "max(1,2,3)"
      ]
    },
    {
      "cell_type": "code",
      "execution_count": null,
      "metadata": {
        "id": "qOBKxlbykdrB",
        "outputId": "49e553c8-db6d-466c-e165-1be0d5e59b0a"
      },
      "outputs": [
        {
          "data": {
            "text/plain": [
              "32"
            ]
          },
          "execution_count": 11,
          "metadata": {},
          "output_type": "execute_result"
        }
      ],
      "source": [
        "abs(32)"
      ]
    },
    {
      "cell_type": "code",
      "execution_count": null,
      "metadata": {
        "id": "J6xfYT26kdrB",
        "outputId": "a0d5b6c5-61f5-4c7a-f00b-45ee17f7470f"
      },
      "outputs": [
        {
          "data": {
            "text/plain": [
              "32"
            ]
          },
          "execution_count": 12,
          "metadata": {},
          "output_type": "execute_result"
        }
      ],
      "source": [
        "abs(-32)"
      ]
    },
    {
      "cell_type": "code",
      "execution_count": null,
      "metadata": {
        "id": "-cjYmyJNkdrC",
        "outputId": "abdb41b7-c51b-475c-da75-a60f6390c9d9"
      },
      "outputs": [
        {
          "name": "stdout",
          "output_type": "stream",
          "text": [
            "Help on built-in function abs in module builtins:\n",
            "\n",
            "abs(x, /)\n",
            "    Return the absolute value of the argument.\n",
            "\n"
          ]
        }
      ],
      "source": [
        "help(abs)"
      ]
    },
    {
      "cell_type": "code",
      "execution_count": null,
      "metadata": {
        "id": "fdxJMGjvkdrC",
        "outputId": "0a0e3e42-386d-40fb-f9c4-430ccf59a278"
      },
      "outputs": [
        {
          "name": "stdout",
          "output_type": "stream",
          "text": [
            "Help on built-in function print in module builtins:\n",
            "\n",
            "print(...)\n",
            "    print(value, ..., sep=' ', end='\\n', file=sys.stdout, flush=False)\n",
            "    \n",
            "    Prints the values to a stream, or to sys.stdout by default.\n",
            "    Optional keyword arguments:\n",
            "    file:  a file-like object (stream); defaults to the current sys.stdout.\n",
            "    sep:   string inserted between values, default a space.\n",
            "    end:   string appended after the last value, default a newline.\n",
            "    flush: whether to forcibly flush the stream.\n",
            "\n"
          ]
        }
      ],
      "source": [
        "help(print)"
      ]
    }
  ],
  "metadata": {
    "kernelspec": {
      "display_name": "Python 3",
      "language": "python",
      "name": "python3"
    },
    "language_info": {
      "codemirror_mode": {
        "name": "ipython",
        "version": 3
      },
      "file_extension": ".py",
      "mimetype": "text/x-python",
      "name": "python",
      "nbconvert_exporter": "python",
      "pygments_lexer": "ipython3",
      "version": "3.7.1"
    },
    "colab": {
      "provenance": []
    }
  },
  "nbformat": 4,
  "nbformat_minor": 0
}