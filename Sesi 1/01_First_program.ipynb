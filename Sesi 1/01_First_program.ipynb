{
  "cells": [
    {
      "cell_type": "markdown",
      "source": [
        "# Your first code"
      ],
      "metadata": {
        "id": "v55nao1gktSZ"
      },
      "id": "v55nao1gktSZ"
    },
    {
      "cell_type": "code",
      "execution_count": null,
      "id": "9c9b9e53",
      "metadata": {
        "id": "9c9b9e53",
        "outputId": "ff2a7e6e-6031-4d8c-b29a-d5f1b8d520a3"
      },
      "outputs": [
        {
          "name": "stdout",
          "output_type": "stream",
          "text": [
            "Hello World\n"
          ]
        }
      ],
      "source": [
        "print(\"Hello World\")"
      ]
    },
    {
      "cell_type": "code",
      "source": [
        "# menggunakan tanda pagar membuat komputer tidak menghasilkan output untuk satu baris ini"
      ],
      "metadata": {
        "id": "KHqu-FqRkxZb"
      },
      "id": "KHqu-FqRkxZb",
      "execution_count": null,
      "outputs": []
    },
    {
      "cell_type": "markdown",
      "source": [
        "## Koding?"
      ],
      "metadata": {
        "id": "ecPyG0Y_k3Zl"
      },
      "id": "ecPyG0Y_k3Zl"
    },
    {
      "cell_type": "markdown",
      "source": [
        "Merubah data(input) menggunakan function jadi data yang lebih berguna(output)\n",
        "\n",
        "INPUT -> Function -> Output"
      ],
      "metadata": {
        "id": "h6p3sCdDk56T"
      },
      "id": "h6p3sCdDk56T"
    },
    {
      "cell_type": "markdown",
      "id": "57dce1df",
      "metadata": {
        "id": "57dce1df"
      },
      "source": [
        "# First program"
      ]
    },
    {
      "cell_type": "code",
      "execution_count": null,
      "id": "60100f8a",
      "metadata": {
        "id": "60100f8a",
        "outputId": "b9e9e860-a3bf-49d6-b63b-8a20eee14162"
      },
      "outputs": [
        {
          "name": "stdout",
          "output_type": "stream",
          "text": [
            "Masukkan temperatur dalam celsius? 100\n",
            "212.0\n"
          ]
        }
      ],
      "source": [
        "celcius = float(input (\"Masukkan temperatur dalam celsius? \")) # Input\n",
        "fahrenheit = celcius * 9/5 + 32 # Proses\n",
        "print(fahrenheit) # Output"
      ]
    },
    {
      "cell_type": "markdown",
      "id": "4d75900f",
      "metadata": {
        "id": "4d75900f"
      },
      "source": [
        "# Second Program"
      ]
    },
    {
      "cell_type": "code",
      "execution_count": null,
      "id": "a831df55",
      "metadata": {
        "id": "a831df55",
        "outputId": "b54b692a-e1bd-47b9-85b8-38d6d43dfb5a"
      },
      "outputs": [
        {
          "name": "stdout",
          "output_type": "stream",
          "text": [
            "Masukkan investasi anda mula-mula? 1000\n",
            "Berapa bunga per tahunnya? 0.1\n",
            "Berapa lama akan menyimpan investasi (dalam tahun)? 10\n",
            "Investasi awal =  1000.0  bunga per tahun =  0.1  maka dalam  10  tahun adalah =  2593.742460100001\n"
          ]
        }
      ],
      "source": [
        "# Input\n",
        "awal = float(input (\"Masukkan investasi anda mula-mula? \"))\n",
        "tabungan = awal\n",
        "bunga = float(input (\"Berapa bunga per tahunnya? \"))\n",
        "n = int(input (\"Berapa lama akan menyimpan investasi (dalam tahun)? \"))\n",
        "# Proses\n",
        "for i in range(n):\n",
        "    tabungan = tabungan * (1 + bunga)\n",
        "# Output\n",
        "print(\"Investasi awal = \",awal, \" bunga per tahun = \", bunga,\n",
        "      \" maka dalam \",n, \" tahun adalah = \",tabungan)"
      ]
    },
    {
      "cell_type": "markdown",
      "id": "bb937ff7",
      "metadata": {
        "id": "bb937ff7"
      },
      "source": [
        "# Lab 1\n",
        "Expected output\n",
        "\n",
        "Programming\\*\\*\\*Essentials\\*\\*\\*in...Python"
      ]
    },
    {
      "cell_type": "code",
      "execution_count": null,
      "id": "a3cfa5f5",
      "metadata": {
        "id": "a3cfa5f5",
        "outputId": "9982dabb-3691-42cb-f040-158f87a219a8"
      },
      "outputs": [
        {
          "name": "stdout",
          "output_type": "stream",
          "text": [
            "Programming Essentials in\n",
            "Python\n"
          ]
        }
      ],
      "source": [
        "print(\"Programming\",\"Essentials\",\"in\",sep= ,end=)\n",
        "print(\"Python\")"
      ]
    },
    {
      "cell_type": "code",
      "execution_count": null,
      "id": "a05225bc",
      "metadata": {
        "id": "a05225bc",
        "outputId": "17cd9ec6-f2ef-424e-8976-1785be9dc077"
      },
      "outputs": [
        {
          "name": "stdout",
          "output_type": "stream",
          "text": [
            "Programming***Essentials***in...Python\n"
          ]
        }
      ],
      "source": [
        "print(\"Programming\",\"Essentials\",\"in\", sep= \"***\", end= \"...\")\n",
        "print(\"Python\")"
      ]
    },
    {
      "cell_type": "code",
      "execution_count": null,
      "id": "01ccfa7a",
      "metadata": {
        "id": "01ccfa7a",
        "outputId": "25349ca3-208f-4541-cf9f-0c77af6bf749"
      },
      "outputs": [
        {
          "name": "stdout",
          "output_type": "stream",
          "text": [
            "    *\n",
            "   * *\n",
            "  *   *\n",
            " *     *\n",
            "***   ***\n",
            "  *   *\n",
            "  *   *\n",
            "  *****\n"
          ]
        }
      ],
      "source": [
        "'''\n",
        "Try to:\n",
        "\n",
        "    minimize the number of print() function invocations by inserting the \\n sequence into the strings\n",
        "    make the arrow twice as large (but keep the proportions)\n",
        "    duplicate the arrow, placing both arrows side by side; note: a string may be multiplied by using the following trick: \"string\" * 2 will produce \"stringstring\" (we'll tell you more about it soon)\n",
        "    remove any of the quotes, and look carefully at Python's response; pay attention to where Python sees an error - is this the place where the error really exists?\n",
        "    do the same with some of the parentheses;\n",
        "    change any of the print words into something else, differing only in case (e.g., Print) - what happens now?\n",
        "    replace some of the quotes with apostrophes; watch what happens carefully.\n",
        "\n",
        "'''\n",
        "print(\"    *\")\n",
        "print(\"   * *\")\n",
        "print(\"  *   *\")\n",
        "print(\" *     *\")\n",
        "print(\"***   ***\")\n",
        "print(\"  *   *\")\n",
        "print(\"  *   *\")\n",
        "print(\"  *****\")"
      ]
    },
    {
      "cell_type": "code",
      "execution_count": null,
      "id": "2c3c4f0f",
      "metadata": {
        "id": "2c3c4f0f",
        "outputId": "a87edf7c-8a34-444f-931f-b37b19d9e935"
      },
      "outputs": [
        {
          "name": "stdout",
          "output_type": "stream",
          "text": [
            "    *\n",
            "   * *\n",
            "  *   *\n",
            " *     *\n",
            "***   *** \n",
            "  *   *\n",
            "  *   *\n",
            "  *****\n"
          ]
        }
      ],
      "source": [
        "print(\"    *\\n   * *\\n  *   *\\n *     *\\n***   ***\",\n",
        "      \"\\n  *   *\\n  *   *\\n  *****\")\n"
      ]
    },
    {
      "cell_type": "code",
      "execution_count": null,
      "id": "0ed1035b",
      "metadata": {
        "id": "0ed1035b",
        "outputId": "23dff99a-ab75-4585-d7f8-cb5660c4fb73"
      },
      "outputs": [
        {
          "data": {
            "text/plain": [
              "'\\nExpected output\\n\\n(1) \"I\\'m\"\\n(2) \"\"learning\"\"\\n(3) \"\"\"Python\"\"\"\\n'"
            ]
          },
          "execution_count": 63,
          "metadata": {},
          "output_type": "execute_result"
        }
      ],
      "source": [
        "'''\n",
        "Expected output\n",
        "\n",
        "(1) \"I'm\"\n",
        "(2) \"\"learning\"\"\n",
        "(3) \"\"\"Python\"\"\"\n",
        "'''"
      ]
    },
    {
      "cell_type": "code",
      "execution_count": null,
      "id": "606a3496",
      "metadata": {
        "id": "606a3496",
        "outputId": "dcebbb41-10ad-4fea-ac8f-e44c8386d320"
      },
      "outputs": [
        {
          "name": "stdout",
          "output_type": "stream",
          "text": [
            "\"I'm\"\n"
          ]
        }
      ],
      "source": [
        "print(\"\\\"I'm\\\"\")"
      ]
    },
    {
      "cell_type": "code",
      "execution_count": null,
      "id": "222f65f3",
      "metadata": {
        "id": "222f65f3",
        "outputId": "b5855c04-a81d-4a51-a3a5-5d5118d088a6"
      },
      "outputs": [
        {
          "name": "stdout",
          "output_type": "stream",
          "text": [
            "\"I'm\"\n",
            " \"\"Learning\"\"\n",
            " \"\"\"Python\"\"\"\"\n"
          ]
        }
      ],
      "source": [
        "print(\"\\\"I'm\\\"\\n \\\"\\\"Learning\\\"\\\"\\n \\\"\\\"\\\"Python\\\"\\\"\\\"\\\"\")\n"
      ]
    },
    {
      "cell_type": "code",
      "execution_count": null,
      "id": "8b23a3b5",
      "metadata": {
        "id": "8b23a3b5",
        "outputId": "e829dd0d-ca69-4c61-f932-4bda2bbaa892"
      },
      "outputs": [
        {
          "name": "stdout",
          "output_type": "stream",
          "text": [
            "\"\"Learning\"\"\n",
            "\"\"\"Python\"\"\"\n"
          ]
        }
      ],
      "source": [
        "print('\\\"\\\"Learning\\\"\\\"\\n\\\"\\\"\\\"Python\\\"\\\"\\\"')\n"
      ]
    },
    {
      "cell_type": "code",
      "execution_count": null,
      "id": "376358b5",
      "metadata": {
        "id": "376358b5"
      },
      "outputs": [],
      "source": []
    }
  ],
  "metadata": {
    "kernelspec": {
      "display_name": "Python 3",
      "language": "python",
      "name": "python3"
    },
    "language_info": {
      "codemirror_mode": {
        "name": "ipython",
        "version": 3
      },
      "file_extension": ".py",
      "mimetype": "text/x-python",
      "name": "python",
      "nbconvert_exporter": "python",
      "pygments_lexer": "ipython3",
      "version": "3.7.3"
    },
    "colab": {
      "provenance": []
    }
  },
  "nbformat": 4,
  "nbformat_minor": 5
}