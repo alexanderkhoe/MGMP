{
  "cells": [
    {
      "cell_type": "markdown",
      "source": [
        "## Data type string\n",
        "dikutip \"\" atau ''\n"
      ],
      "metadata": {
        "id": "1XztcAg9l20e"
      },
      "id": "1XztcAg9l20e"
    },
    {
      "cell_type": "code",
      "source": [
        "type(\"Budi\")"
      ],
      "metadata": {
        "colab": {
          "base_uri": "https://localhost:8080/"
        },
        "id": "2lG1uUjBl6JY",
        "outputId": "ef324da3-e1a5-48e7-ac54-6832590b9f42"
      },
      "id": "2lG1uUjBl6JY",
      "execution_count": null,
      "outputs": [
        {
          "output_type": "execute_result",
          "data": {
            "text/plain": [
              "str"
            ]
          },
          "metadata": {},
          "execution_count": 1
        }
      ]
    },
    {
      "cell_type": "code",
      "source": [
        "type('Amir')"
      ],
      "metadata": {
        "colab": {
          "base_uri": "https://localhost:8080/"
        },
        "id": "RXYeu4IHmFL4",
        "outputId": "cd04acee-7c72-42fd-9f67-7473999165f6"
      },
      "id": "RXYeu4IHmFL4",
      "execution_count": null,
      "outputs": [
        {
          "output_type": "execute_result",
          "data": {
            "text/plain": [
              "str"
            ]
          },
          "metadata": {},
          "execution_count": 2
        }
      ]
    },
    {
      "cell_type": "code",
      "source": [
        "# Store strings in a variable\n",
        "test_word = \"hello world to everyone\"\n",
        "\n",
        "# Print the test_word value\n",
        "print(test_word)\n",
        "\n",
        "# Use [] to access the character of the string. The first character is indicated by '0'.\n",
        "print(test_word[0])\n",
        "\n",
        "# Use the len() function to find the length of the string\n",
        "print(len(test_word))\n",
        "\n",
        "# Some examples of finding in strings\n",
        "print(test_word.count('l')) # Count number of times l repeats in the string\n",
        "print(test_word.find(\"o\")) # Find letter 'o' in the string. Returns the position of first match.\n",
        "print(test_word.count(' ')) # Count number of spaces in the string\n",
        "print(test_word.upper()) # Change the string to uppercase\n",
        "print(test_word.lower()) # Change the string to lowercase\n",
        "print(test_word.replace(\"everyone\",\"you\")) # Replace word \"everyone\" with \"you\"\n",
        "print(test_word.title()) # Change string to title format\n",
        "print(test_word + \"!!!\") # Concatenate strings\n",
        "print(\":\".join(test_word)) # Add \":\" between each character\n",
        "print(\"\".join(reversed(test_word))) # Reverse the string "
      ],
      "metadata": {
        "id": "Nv4bzUWUngFa",
        "outputId": "0a965c35-4238-4b7f-d2c1-442116c42497",
        "colab": {
          "base_uri": "https://localhost:8080/"
        }
      },
      "id": "Nv4bzUWUngFa",
      "execution_count": 1,
      "outputs": [
        {
          "output_type": "stream",
          "name": "stdout",
          "text": [
            "hello world to everyone\n",
            "h\n",
            "23\n",
            "3\n",
            "4\n",
            "3\n",
            "HELLO WORLD TO EVERYONE\n",
            "hello world to everyone\n",
            "hello world to you\n",
            "Hello World To Everyone\n",
            "hello world to everyone!!!\n",
            "h:e:l:l:o: :w:o:r:l:d: :t:o: :e:v:e:r:y:o:n:e\n",
            "enoyreve ot dlrow olleh\n"
          ]
        }
      ]
    },
    {
      "cell_type": "markdown",
      "id": "92c4b87e",
      "metadata": {
        "id": "92c4b87e"
      },
      "source": [
        "## Your own split"
      ]
    },
    {
      "cell_type": "code",
      "execution_count": null,
      "id": "8032f29e",
      "metadata": {
        "id": "8032f29e"
      },
      "outputs": [],
      "source": [
        "def mysplit(strng):\n",
        "    l = []\n",
        "    s = ''\n",
        "    for i in strng:\n",
        "        if i != ' ':\n",
        "            s = s + i\n",
        "        else:\n",
        "            if s!='': l.append(s)\n",
        "            s = ''\n",
        "    return l\n"
      ]
    },
    {
      "cell_type": "code",
      "execution_count": null,
      "id": "a9a86666",
      "metadata": {
        "id": "a9a86666",
        "outputId": "7845ee78-2b6d-4182-9db1-85883a115c8c"
      },
      "outputs": [
        {
          "name": "stdout",
          "output_type": "stream",
          "text": [
            "['To', 'be', 'or', 'not', 'to', 'be,', 'that', 'is', 'the']\n",
            "['To', 'be', 'or', 'not', 'to', 'be,that', 'is', 'the']\n",
            "[]\n",
            "['abc']\n",
            "[]\n"
          ]
        }
      ],
      "source": [
        "print(mysplit(\"To be or not to be, that is the question\"))\n",
        "print(mysplit(\"To be or not to be,that is the question\"))\n",
        "print(mysplit(\"   \"))\n",
        "print(mysplit(\" abc \"))\n",
        "print(mysplit(\"\"))"
      ]
    },
    {
      "cell_type": "markdown",
      "id": "78f6875c",
      "metadata": {
        "id": "78f6875c"
      },
      "source": [
        "# 2.4.1.6 LAB: A LED Display "
      ]
    },
    {
      "cell_type": "code",
      "execution_count": null,
      "id": "b3185979",
      "metadata": {
        "id": "b3185979"
      },
      "outputs": [],
      "source": [
        "angka = [[[1, 1, 1], [1, 0, 1], [1, 0, 1], [1, 0, 1],[1, 1, 1]],\n",
        "         [[0, 0, 1], [0, 0, 1], [0, 0, 1], [0, 0, 1],[0, 0, 1]],\n",
        "         [[1, 1, 1], [0, 0, 1], [1, 1, 1], [1, 0, 0],[1, 1, 1]],\n",
        "         [[1, 1, 1], [0, 0, 1], [1, 1, 1], [0, 0, 1],[1, 1, 1]],\n",
        "         [[1, 0, 1], [1, 0, 1], [1, 1, 1], [0, 0, 1],[0, 0, 1]],\n",
        "         [[1, 1, 1], [1, 0, 0], [1, 1, 1], [0, 0, 1],[1, 1, 1]],\n",
        "         [[1, 1, 1], [1, 0, 0], [1, 1, 1], [1, 0, 1],[1, 1, 1]],\n",
        "         [[1, 1, 1], [0, 0, 1], [0, 0, 1], [0, 0, 1],[0, 0, 1]],\n",
        "         [[1, 1, 1], [1, 0, 1], [1, 1, 1], [1, 0, 1],[1, 1, 1]],\n",
        "         [[1, 1, 1], [1, 0, 1], [1, 1, 1], [0, 0, 1],[1, 1, 1]]]\n",
        "\n",
        "def baris_led(l):\n",
        "    for i in l:\n",
        "        if i == 1: \n",
        "            print('#', end=' ')\n",
        "        else:\n",
        "            print(' ', end=' ')\n",
        "\n",
        "def digit(angka):\n",
        "    for i in range(5):\n",
        "        baris_led(angka[i])\n",
        "        print()\n",
        "            "
      ]
    },
    {
      "cell_type": "code",
      "execution_count": null,
      "id": "07d13aa4",
      "metadata": {
        "id": "07d13aa4",
        "outputId": "d19b0a46-2b54-4b5b-af26-553306cadf8d"
      },
      "outputs": [
        {
          "name": "stdout",
          "output_type": "stream",
          "text": [
            "Masukkan angka yang akan ditampilkan dalam LED: 987\n",
            "# # #     # # #     # # #     \n",
            "#   #     #   #         #     \n",
            "# # #     # # #         #     \n",
            "    #     #   #         #     \n",
            "# # #     # # #         #     \n"
          ]
        }
      ],
      "source": [
        "led = input (\"Masukkan angka yang akan ditampilkan dalam LED: \")\n",
        "for i in range(5):\n",
        "    for j in led:\n",
        "        baris_led(angka[int(j)][i])\n",
        "        print(end='    ')\n",
        "    print()"
      ]
    },
    {
      "cell_type": "markdown",
      "id": "86920ee3",
      "metadata": {
        "id": "86920ee3"
      },
      "source": [
        "# Caesar Code"
      ]
    },
    {
      "cell_type": "code",
      "execution_count": null,
      "id": "238a755b",
      "metadata": {
        "id": "238a755b",
        "outputId": "aff24ae3-bb4e-44fa-da5a-f0a968215a73"
      },
      "outputs": [
        {
          "name": "stdout",
          "output_type": "stream",
          "text": [
            "Enter your message: Alexander\n",
            "BMFYBOEFS\n"
          ]
        }
      ],
      "source": [
        "# Caesar cipher.\n",
        "text = input(\"Enter your message: \")\n",
        "cipher = ''\n",
        "for char in text:\n",
        "    if not char.isalpha():\n",
        "        continue\n",
        "    char = char.upper()\n",
        "    code = ord(char) + 1\n",
        "    if code > ord('Z'):\n",
        "        code = ord('A')\n",
        "    cipher += chr(code)\n",
        "\n",
        "print(cipher)\n"
      ]
    },
    {
      "cell_type": "code",
      "execution_count": null,
      "id": "477e9840",
      "metadata": {
        "id": "477e9840",
        "outputId": "67661c5c-2afd-4b8f-b556-9510f7355d45"
      },
      "outputs": [
        {
          "name": "stdout",
          "output_type": "stream",
          "text": [
            "Enter your cryptogram: BMFYBOEFS\n",
            "ALEXANDER\n"
          ]
        }
      ],
      "source": [
        "# Caesar cipher - decrypting a message.\n",
        "cipher = input('Enter your cryptogram: ')\n",
        "text = ''\n",
        "for char in cipher:\n",
        "    if not char.isalpha():\n",
        "        continue\n",
        "    char = char.upper()\n",
        "    code = ord(char) - 1\n",
        "    if code < ord('A'):\n",
        "        code = ord('Z')\n",
        "    text += chr(code)\n",
        "\n",
        "print(text)\n"
      ]
    },
    {
      "cell_type": "markdown",
      "id": "fb9b8107",
      "metadata": {
        "id": "fb9b8107"
      },
      "source": [
        "# 2.5.1.6 LAB: Improving the Caesar cipher\n"
      ]
    },
    {
      "cell_type": "code",
      "execution_count": null,
      "id": "cff01b2c",
      "metadata": {
        "id": "cff01b2c",
        "outputId": "deb55776-d264-4bdf-acc6-1d3a80845fcd"
      },
      "outputs": [
        {
          "name": "stdout",
          "output_type": "stream",
          "text": [
            "Enter your message: abcxyzABCxyz 123\n",
            "Enter shift value between 1 .. 25: 2\n",
            "cdezabCDEzab 123\n"
          ]
        }
      ],
      "source": [
        "# Caesar cipher.\n",
        "text = input(\"Enter your message: \")\n",
        "shift = input ('Enter shift value between 1 .. 25: ')\n",
        "cipher = ''\n",
        "for char in text:\n",
        "    ascii = ord(char)\n",
        "    if 65 <= ascii <= 90:\n",
        "        jumlah = ascii + int(shift)\n",
        "        if jumlah > 90:\n",
        "            jumlah = jumlah -26\n",
        "    \n",
        "    if 97 <= ascii <= 122:\n",
        "        jumlah = ascii + int(shift)\n",
        "        if jumlah > 122:\n",
        "            jumlah = jumlah -26\n",
        "    \n",
        "    if ascii == 32:\n",
        "        jumlah = ascii\n",
        "    \n",
        "    if 48 <= ascii <= 57:\n",
        "        jumlah = ascii\n",
        "\n",
        "    cipher += chr(jumlah)\n",
        "\n",
        "print(cipher)"
      ]
    },
    {
      "cell_type": "markdown",
      "id": "7ddbe7d9",
      "metadata": {
        "id": "7ddbe7d9"
      },
      "source": [
        "# Tugas : Lakukan Decipher dari Improve caesar code di atas"
      ]
    },
    {
      "cell_type": "code",
      "execution_count": null,
      "id": "6530b838",
      "metadata": {
        "id": "6530b838"
      },
      "outputs": [],
      "source": []
    }
  ],
  "metadata": {
    "kernelspec": {
      "display_name": "Python 3",
      "language": "python",
      "name": "python3"
    },
    "language_info": {
      "codemirror_mode": {
        "name": "ipython",
        "version": 3
      },
      "file_extension": ".py",
      "mimetype": "text/x-python",
      "name": "python",
      "nbconvert_exporter": "python",
      "pygments_lexer": "ipython3",
      "version": "3.7.3"
    },
    "colab": {
      "provenance": []
    }
  },
  "nbformat": 4,
  "nbformat_minor": 5
}