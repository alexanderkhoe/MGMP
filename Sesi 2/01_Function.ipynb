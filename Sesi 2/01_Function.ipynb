{
  "cells": [
    {
      "cell_type": "markdown",
      "id": "eed28d59",
      "metadata": {
        "id": "eed28d59"
      },
      "source": [
        "# Fungsi"
      ]
    },
    {
      "cell_type": "code",
      "execution_count": null,
      "id": "928c6cf7",
      "metadata": {
        "id": "928c6cf7"
      },
      "outputs": [],
      "source": [
        "def happy(person1=\"you\", person2=\"you\", person3=\"you\"):\n",
        "    print(\"Happy Birthday to\",person1,\"!\")\n",
        "    print(\"Happy Birthday to\",person2,\"!\")\n",
        "    print(\"Happy Birthday to\",person3,\"!\")"
      ]
    },
    {
      "cell_type": "code",
      "execution_count": null,
      "id": "c83f5f09",
      "metadata": {
        "id": "c83f5f09"
      },
      "outputs": [],
      "source": [
        "happy(\"Budi\") #Positional passing"
      ]
    },
    {
      "cell_type": "code",
      "execution_count": null,
      "id": "70eea263",
      "metadata": {
        "id": "70eea263"
      },
      "outputs": [],
      "source": [
        "happy(person2=\"Budi\")  #Keyword passing"
      ]
    },
    {
      "cell_type": "code",
      "execution_count": null,
      "id": "4325c558",
      "metadata": {
        "id": "4325c558"
      },
      "outputs": [],
      "source": [
        "happy(\"Alex\",person3=\"Budi\",person2=\"Cici\")  #Mixed passing"
      ]
    },
    {
      "cell_type": "markdown",
      "id": "371b271f",
      "metadata": {
        "id": "371b271f"
      },
      "source": [
        "# Future Value sebagai Fungsi"
      ]
    },
    {
      "cell_type": "code",
      "execution_count": null,
      "id": "9235b8a9",
      "metadata": {
        "id": "9235b8a9"
      },
      "outputs": [],
      "source": [
        "def main():\n",
        "    # Input\n",
        "    awal = float(input (\"Masukkan investasi anda mula-mula? \"))\n",
        "    tabungan = awal\n",
        "    bunga = float(input (\"Berapa bunga per tahunnya? \"))\n",
        "    n = int(input (\"Berapa lama akan menyimpan investasi (dalam tahun)? \"))\n",
        "    future(tabungan, bunga, n)\n",
        "\n",
        "def future(tabungan, bunga, n):\n",
        "    # Proses\n",
        "    for i in range(n):\n",
        "        tabungan = tabungan * (1 + bunga)\n",
        "    # Output\n",
        "    print(\"Investasi awal = \",awal, \" bunga per tahun = \", bunga,\n",
        "          \" maka dalam \",n, \" tahun adalah = \",tabungan)"
      ]
    },
    {
      "cell_type": "code",
      "execution_count": null,
      "id": "e241e910",
      "metadata": {
        "id": "e241e910",
        "outputId": "2d019258-0684-4d06-bdc9-7065b91c7167"
      },
      "outputs": [
        {
          "name": "stdout",
          "output_type": "stream",
          "text": [
            "2000000\n",
            "1000\n"
          ]
        }
      ],
      "source": [
        "N = 1000\n",
        "def nilai(N):\n",
        "    N = N * 2000\n",
        "    print(N)\n",
        "nilai(N)\n",
        "print(N) # nilai dalam fungsi bersifat lokal"
      ]
    },
    {
      "cell_type": "code",
      "execution_count": null,
      "id": "999c786f",
      "metadata": {
        "id": "999c786f"
      },
      "outputs": [],
      "source": [
        "# Bagaimana caranya supaya nilai N dalam fungsi bisa keluar ke program utama?"
      ]
    },
    {
      "cell_type": "code",
      "execution_count": null,
      "id": "c39f327e",
      "metadata": {
        "id": "c39f327e",
        "outputId": "c917ed37-7ea5-4f75-f6cb-bc310036706d"
      },
      "outputs": [
        {
          "name": "stdout",
          "output_type": "stream",
          "text": [
            "2000000\n",
            "2000000\n"
          ]
        }
      ],
      "source": [
        "N = 1000\n",
        "def nilai(N):\n",
        "    N = N * 2000\n",
        "    print(N)\n",
        "    return N # 1. menggunakan return\n",
        "N = nilai(N)\n",
        "print(N)"
      ]
    },
    {
      "cell_type": "code",
      "execution_count": null,
      "id": "9c526308",
      "metadata": {
        "id": "9c526308",
        "outputId": "4945f6d4-7e61-4e80-e1a4-764947872b38"
      },
      "outputs": [
        {
          "name": "stdout",
          "output_type": "stream",
          "text": [
            "[2000000]\n",
            "[2000000]\n"
          ]
        }
      ],
      "source": [
        "N = [1000] #2. menggunakan container list\n",
        "def nilai(N):\n",
        "    N[0] = N[0] * 2000\n",
        "    print(N)\n",
        "nilai(N)\n",
        "print(N)"
      ]
    },
    {
      "cell_type": "markdown",
      "id": "2a8bc793",
      "metadata": {
        "id": "2a8bc793"
      },
      "source": [
        "# Latihan 1"
      ]
    },
    {
      "cell_type": "code",
      "execution_count": null,
      "id": "9ef6cb94",
      "metadata": {
        "id": "9ef6cb94"
      },
      "outputs": [],
      "source": [
        "# Tahun Kabisat (Leap Year):\n",
        "# 1. Habis dibagi 4 dan bukan habis dibagi 100\n",
        "# 2. Habis dibagi 400\n",
        "\n",
        "\n",
        "def is_year_leap(year):\n",
        "    if ((year%4==0) and (year%100!=0)) or (year%400==0):\n",
        "        return True\n",
        "    else:\n",
        "        return False\n"
      ]
    },
    {
      "cell_type": "code",
      "execution_count": null,
      "id": "db1520bf",
      "metadata": {
        "id": "db1520bf",
        "outputId": "cc1b2cf6-ebeb-4360-8289-22458944620b"
      },
      "outputs": [
        {
          "name": "stdout",
          "output_type": "stream",
          "text": [
            "1900 ->OK\n",
            "2000 ->OK\n",
            "2016 ->OK\n",
            "1987 ->OK\n"
          ]
        }
      ],
      "source": [
        "test_data = [1900, 2000, 2016, 1987]\n",
        "test_results = [False, True, True, False]\n",
        "for i in range(len(test_data)):\n",
        "\tyr = test_data[i]\n",
        "\tprint(yr,\"->\",end=\"\")\n",
        "\tresult = is_year_leap(yr)\n",
        "\tif result == test_results[i]:\n",
        "\t\tprint(\"OK\")\n",
        "\telse:\n",
        "\t\tprint(\"Failed\")"
      ]
    },
    {
      "cell_type": "markdown",
      "id": "85ca1b8f",
      "metadata": {
        "id": "85ca1b8f"
      },
      "source": [
        "# Latihan 2"
      ]
    },
    {
      "cell_type": "code",
      "execution_count": null,
      "id": "d154f8c1",
      "metadata": {
        "id": "d154f8c1"
      },
      "outputs": [],
      "source": [
        "def is_year_leap(year):\n",
        "    if ((year%4==0) and (year%100!=0)) or (year%400==0):\n",
        "        return True\n",
        "    else:\n",
        "        return False\n",
        "\n",
        "\n",
        "def days_in_month(year, month):\n",
        "    days = [31,28,31,30,31,30,31,31,30,31,30,31]\n",
        "    result = is_year_leap(year)\n",
        "    if (result == True) and (month == 2):\n",
        "        days[1]=29\n",
        "    return days[month-1]\n"
      ]
    },
    {
      "cell_type": "code",
      "execution_count": null,
      "id": "d9ddaed6",
      "metadata": {
        "id": "d9ddaed6",
        "outputId": "1b79e19b-8f2d-4c15-e036-c5eecf81d11b"
      },
      "outputs": [
        {
          "name": "stdout",
          "output_type": "stream",
          "text": [
            "1900 2 ->OK\n",
            "2000 2 ->OK\n",
            "2016 1 ->OK\n",
            "1987 11 ->OK\n"
          ]
        }
      ],
      "source": [
        "test_years = [1900, 2000, 2016, 1987]\n",
        "test_months = [2, 2, 1, 11]\n",
        "test_results = [28, 29, 31, 30]\n",
        "for i in range(len(test_years)):\n",
        "\tyr = test_years[i]\n",
        "\tmo = test_months[i]\n",
        "\tprint(yr, mo, \"->\", end=\"\")\n",
        "\tresult = days_in_month(yr, mo)\n",
        "\tif result == test_results[i]:\n",
        "\t\tprint(\"OK\")\n",
        "\telse:\n",
        "\t\tprint(\"Failed\")"
      ]
    },
    {
      "cell_type": "code",
      "execution_count": null,
      "id": "0be77b39",
      "metadata": {
        "id": "0be77b39"
      },
      "outputs": [],
      "source": []
    }
  ],
  "metadata": {
    "kernelspec": {
      "display_name": "Python 3",
      "language": "python",
      "name": "python3"
    },
    "language_info": {
      "codemirror_mode": {
        "name": "ipython",
        "version": 3
      },
      "file_extension": ".py",
      "mimetype": "text/x-python",
      "name": "python",
      "nbconvert_exporter": "python",
      "pygments_lexer": "ipython3",
      "version": "3.7.3"
    },
    "colab": {
      "provenance": []
    }
  },
  "nbformat": 4,
  "nbformat_minor": 5
}