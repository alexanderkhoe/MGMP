{
  "cells": [
    {
      "cell_type": "markdown",
      "metadata": {
        "id": "FTN6MRiWn2Vt"
      },
      "source": [
        "### Loops "
      ]
    },
    {
      "cell_type": "markdown",
      "metadata": {
        "id": "FaDU4Ythn2Vt"
      },
      "source": [
        "for loops"
      ]
    },
    {
      "cell_type": "code",
      "execution_count": null,
      "metadata": {
        "id": "BFg6m007n2Vt"
      },
      "outputs": [],
      "source": [
        "my_list = [1,2,3,4,5]"
      ]
    },
    {
      "cell_type": "code",
      "execution_count": null,
      "metadata": {
        "id": "pYsBP7jSn2Vt",
        "outputId": "94758b3e-70e4-4512-ddcb-39243daeae80"
      },
      "outputs": [
        {
          "name": "stdout",
          "output_type": "stream",
          "text": [
            "looping ke - 1\n",
            "looping ke - 2\n",
            "looping ke - 3\n",
            "looping ke - 4\n",
            "looping ke - 5\n"
          ]
        }
      ],
      "source": [
        "for i in my_list:\n",
        "    print(\"looping ke -\",i)"
      ]
    },
    {
      "cell_type": "code",
      "execution_count": null,
      "metadata": {
        "id": "cbFusCsxn2Vt",
        "outputId": "a95c4514-a401-48f4-b12a-485d3efd6b94"
      },
      "outputs": [
        {
          "name": "stdout",
          "output_type": "stream",
          "text": [
            "looping ke - 0\n",
            "looping ke - 1\n",
            "looping ke - 2\n",
            "looping ke - 3\n",
            "looping ke - 4\n"
          ]
        }
      ],
      "source": [
        "# another trick use range()\n",
        "for i in range(5):\n",
        "    print(\"looping ke -\",i)"
      ]
    },
    {
      "cell_type": "code",
      "execution_count": null,
      "metadata": {
        "id": "k3qeMBV9n2Vt",
        "outputId": "d467b010-607a-4a27-aa20-4815c37ce119"
      },
      "outputs": [
        {
          "name": "stdout",
          "output_type": "stream",
          "text": [
            "bang beli pisang goreng satu\n",
            "bang beli molen satu\n",
            "bang beli tahu isi satu\n",
            "bang beli cireng satu\n",
            "bang beli tempeh satu\n",
            "bang beli kol goreng satu\n"
          ]
        }
      ],
      "source": [
        "# masih bingung?\n",
        "for beli in gorengan:\n",
        "    print(\"bang beli\",beli,\"satu\")"
      ]
    },
    {
      "cell_type": "markdown",
      "metadata": {
        "id": "6WGf5XrRn2Vt"
      },
      "source": [
        "while loop"
      ]
    },
    {
      "cell_type": "code",
      "execution_count": null,
      "metadata": {
        "id": "8BmTxaUvn2Vt",
        "outputId": "174f03f6-52cb-47a0-96c9-e1476a8d88f8"
      },
      "outputs": [
        {
          "name": "stdout",
          "output_type": "stream",
          "text": [
            "0\n",
            "2\n",
            "4\n",
            "6\n",
            "8\n"
          ]
        }
      ],
      "source": [
        "# while loop bakal iterasi sampai suatu kondisi terpenuhi\n",
        "i = 0\n",
        "while i < 10:\n",
        "    print(i)\n",
        "    i = i + 2"
      ]
    },
    {
      "cell_type": "code",
      "execution_count": null,
      "metadata": {
        "id": "orF3vWPon2Vt"
      },
      "outputs": [],
      "source": [
        "# let's make someting\n",
        "def kuadratin(x):\n",
        "    kuadrat=[]\n",
        "    for n in range(1,x+1):\n",
        "        kuadrat.append(n**2)\n",
        "    return kuadrat"
      ]
    },
    {
      "cell_type": "code",
      "execution_count": null,
      "metadata": {
        "id": "GU7EznEDn2Vt",
        "outputId": "ace43637-04fe-47ce-93a3-a4d36ce82ea2"
      },
      "outputs": [
        {
          "data": {
            "text/plain": [
              "[1, 4, 9, 16, 25]"
            ]
          },
          "execution_count": 70,
          "metadata": {},
          "output_type": "execute_result"
        }
      ],
      "source": [
        "kuadratin(5)"
      ]
    },
    {
      "cell_type": "code",
      "execution_count": null,
      "metadata": {
        "id": "z693lW_3n2Vt"
      },
      "outputs": [],
      "source": [
        "def pecah_kuadratin_list(list):\n",
        "    \"\"\" input = 1 list\n",
        "        output = tupple yang berisi 2 list\n",
        "        list yang kiri, ngefilter yang genap dari input dipangkatin dengan dirinya sendiri\n",
        "        list yang kanan, filter yang ganjil dari input dipangkat 2\"\"\"\n",
        "    ganjil, genap = [], []\n",
        "    for angka in list:\n",
        "        if angka % 2 == 0:\n",
        "            ganjil.append(angka ** angka)\n",
        "        else:\n",
        "            genap.append(angka ** 2)\n",
        "    return ganjil, genap"
      ]
    },
    {
      "cell_type": "code",
      "execution_count": null,
      "metadata": {
        "id": "ER8igdZDn2Vt",
        "outputId": "764b0dd1-f4b8-4aa3-9a0a-2ffaef4d73b3"
      },
      "outputs": [
        {
          "data": {
            "text/plain": [
              "[1, 2, 3, 4, 5]"
            ]
          },
          "execution_count": 72,
          "metadata": {},
          "output_type": "execute_result"
        }
      ],
      "source": [
        "my_list"
      ]
    },
    {
      "cell_type": "code",
      "execution_count": null,
      "metadata": {
        "id": "MTa3qbq0n2Vt",
        "outputId": "059f3c10-dc7b-48a5-8a1b-be3d82e917ef"
      },
      "outputs": [
        {
          "data": {
            "text/plain": [
              "([4, 256], [1, 9, 25])"
            ]
          },
          "execution_count": 73,
          "metadata": {},
          "output_type": "execute_result"
        }
      ],
      "source": [
        "pecah_kuadratin_list(my_list)"
      ]
    },
    {
      "cell_type": "markdown",
      "metadata": {
        "id": "xs8UC4_Mn2Vt"
      },
      "source": [
        "# Good Luck Have Fun "
      ]
    }
  ],
  "metadata": {
    "kernelspec": {
      "display_name": "Python 3",
      "language": "python",
      "name": "python3"
    },
    "language_info": {
      "codemirror_mode": {
        "name": "ipython",
        "version": 3
      },
      "file_extension": ".py",
      "mimetype": "text/x-python",
      "name": "python",
      "nbconvert_exporter": "python",
      "pygments_lexer": "ipython3",
      "version": "3.7.1"
    },
    "colab": {
      "provenance": []
    }
  },
  "nbformat": 4,
  "nbformat_minor": 0
}