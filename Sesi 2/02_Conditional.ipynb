{
  "cells": [
    {
      "cell_type": "markdown",
      "metadata": {
        "id": "pQRr55PQo7e7"
      },
      "source": [
        "# Data type booleans"
      ]
    },
    {
      "cell_type": "code",
      "execution_count": null,
      "metadata": {
        "id": "BhhDAcvKo7e7",
        "outputId": "2f4496df-edc4-4fe9-a0ac-4988b4c23faa"
      },
      "outputs": [
        {
          "name": "stdout",
          "output_type": "stream",
          "text": [
            "False\n",
            "<class 'bool'> <class 'bool'>\n"
          ]
        }
      ],
      "source": [
        "x = True\n",
        "y = False\n",
        "print(y)\n",
        "print(type(x), type(y))"
      ]
    },
    {
      "cell_type": "markdown",
      "metadata": {
        "id": "xBQHqkLho7e7"
      },
      "source": [
        "a == b\n",
        "\n",
        "a != b\n",
        "\n",
        "a and b\n",
        "\n",
        "a or b\n",
        "\n",
        "not a\n",
        "\n",
        "a > b"
      ]
    },
    {
      "cell_type": "code",
      "execution_count": null,
      "metadata": {
        "id": "uHUIidyyo7e7",
        "outputId": "282967f3-f479-4328-df79-8670db87d57e"
      },
      "outputs": [
        {
          "data": {
            "text/plain": [
              "True"
            ]
          },
          "execution_count": 38,
          "metadata": {},
          "output_type": "execute_result"
        }
      ],
      "source": [
        "# python cukup pintar dalam hal ini\n",
        "\n",
        "2 == 2.0"
      ]
    },
    {
      "cell_type": "code",
      "execution_count": null,
      "metadata": {
        "id": "YHh1drSUo7e7",
        "outputId": "1feca1f1-3052-4d74-ce02-22be6f686920"
      },
      "outputs": [
        {
          "data": {
            "text/plain": [
              "False"
            ]
          },
          "execution_count": 39,
          "metadata": {},
          "output_type": "execute_result"
        }
      ],
      "source": [
        "# tapi tidak cukup pintar\n",
        "\"2\" == 2\n",
        "\n",
        "# 2 type yang berbeda yang kiri str yang kanan int"
      ]
    },
    {
      "cell_type": "markdown",
      "metadata": {
        "id": "SUA7hDF8o7e7"
      },
      "source": [
        "### conditionals"
      ]
    },
    {
      "cell_type": "code",
      "execution_count": null,
      "metadata": {
        "id": "VENQEMQYo7e7"
      },
      "outputs": [],
      "source": [
        "def umur_nonton(x):\n",
        "    if x <= 17:\n",
        "        print(x, \"tahun? masih dibawah umur lu gan!\")\n",
        "    elif x < 50:\n",
        "        print(\"umur\", x, \"udah boleh nonton gan\")\n",
        "    else:\n",
        "        print(\"pensiun gan, urus cucu\")"
      ]
    },
    {
      "cell_type": "code",
      "execution_count": null,
      "metadata": {
        "id": "2lvfo5GNo7e7",
        "outputId": "864b92ed-b213-4d65-e804-bf79ba2112f9"
      },
      "outputs": [
        {
          "name": "stdout",
          "output_type": "stream",
          "text": [
            "12 tahun? masih dibawah umur lu gan!\n",
            "umur 25 udah boleh nonton gan\n",
            "pensiun gan, urus cucu\n"
          ]
        }
      ],
      "source": [
        "umur_nonton(12)\n",
        "umur_nonton(25)\n",
        "umur_nonton(100)"
      ]
    },
    {
      "cell_type": "markdown",
      "metadata": {
        "id": "KWq7sHU7o7e9"
      },
      "source": [
        "# Good Luck Have Fun "
      ]
    }
  ],
  "metadata": {
    "kernelspec": {
      "display_name": "Python 3",
      "language": "python",
      "name": "python3"
    },
    "language_info": {
      "codemirror_mode": {
        "name": "ipython",
        "version": 3
      },
      "file_extension": ".py",
      "mimetype": "text/x-python",
      "name": "python",
      "nbconvert_exporter": "python",
      "pygments_lexer": "ipython3",
      "version": "3.7.1"
    },
    "colab": {
      "provenance": []
    }
  },
  "nbformat": 4,
  "nbformat_minor": 0
}